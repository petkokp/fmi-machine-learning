{
 "cells": [
  {
   "cell_type": "markdown",
   "metadata": {},
   "source": [
    "# Домашно 1\n",
    "\n",
    "Линейна и логистична регресия.\n",
    "\n",
    "Предайте същата тетрадка като тази в заданието с нанесените от вас промени."
   ]
  },
  {
   "cell_type": "markdown",
   "metadata": {},
   "source": [
    "# Задача 1\n",
    "\n",
    "В заданието  имате данните отностно сърдечни заболявания, които са взети от [това състезание в kaggle](https://www.kaggle.com/datasets/fedesoriano/heart-failure-prediction).\n",
    "Данните, които трябва да прочетете, са файлът `hearth.csv`\n",
    "\n",
    "1.1 Прочетете набора от данни с помощта на `pandas`. (*hint: read_csv*)\n",
    "\n",
    "1.2 След което разбийте данните на атрибути и целеви атрибут. в случая целевия атрибут е HeartDisease.\n",
    "\n",
    "1.3 Подгответе категорийните променливи, така че да могат да бъдат обработвани като индикатори. (*hint: get_dummies*)\n",
    "\n",
    "1.4 Разбийте данните на тренировъчно и тестово множество (като 30% от данните да са в тестовото множество).\n"
   ]
  },
  {
   "cell_type": "code",
   "execution_count": 1,
   "metadata": {},
   "outputs": [],
   "source": [
    "import pandas as pd\n",
    "from sklearn.model_selection import train_test_split\n",
    "\n",
    "data = pd.read_csv(\"heart.csv\")\n",
    "\n",
    "X = data.drop(\"HeartDisease\", axis=1)\n",
    "y = data[\"HeartDisease\"]\n",
    "\n",
    "X = pd.get_dummies(X, columns=[\"Age\", \"Sex\", \"ChestPainType\", \"RestingBP\", \"Cholesterol\", \"FastingBS\", \"RestingECG\", \"MaxHR\", \"ExerciseAngina\", \"Oldpeak\", \"ST_Slope\"])\n",
    "\n",
    "X_train, X_test, y_train, y_test = train_test_split(X, y, test_size=0.3, random_state=42)"
   ]
  },
  {
   "cell_type": "markdown",
   "metadata": {},
   "source": [
    "# Задача 2\n",
    "\n",
    "2.1 Напревете логистична регресия, като я натренирате върху тренировъчните данни. Тествайте колко добре се справя върху тренировъчните и тестовите данни, използвайки функцията `.score()`.\n",
    "\n",
    "2.2 Тествайте как ще се промени резултата като добавите по-голяма регулизация.\n",
    "\n",
    "2.3 Тествайте как ще се промени резултата като добавите по-малка регулизация. \n",
    "\n",
    "2.4 Обеснете как интерпретирате резултатите от екпериментите си."
   ]
  },
  {
   "cell_type": "code",
   "execution_count": 2,
   "metadata": {},
   "outputs": [
    {
     "name": "stdout",
     "output_type": "stream",
     "text": [
      "Точност върху тренировъчните данни: 0.9127725856697819\n",
      "Точност върху тестовите данни: 0.8695652173913043\n",
      "Точност с по-голяма регулизация: 0.8840579710144928\n",
      "Точност с по-малка регулизация: 0.8043478260869565\n"
     ]
    },
    {
     "name": "stderr",
     "output_type": "stream",
     "text": [
      "C:\\Users\\ppetko\\AppData\\Local\\Packages\\PythonSoftwareFoundation.Python.3.10_qbz5n2kfra8p0\\LocalCache\\local-packages\\Python310\\site-packages\\sklearn\\linear_model\\_logistic.py:458: ConvergenceWarning: lbfgs failed to converge (status=1):\n",
      "STOP: TOTAL NO. of ITERATIONS REACHED LIMIT.\n",
      "\n",
      "Increase the number of iterations (max_iter) or scale the data as shown in:\n",
      "    https://scikit-learn.org/stable/modules/preprocessing.html\n",
      "Please also refer to the documentation for alternative solver options:\n",
      "    https://scikit-learn.org/stable/modules/linear_model.html#logistic-regression\n",
      "  n_iter_i = _check_optimize_result(\n"
     ]
    }
   ],
   "source": [
    "from sklearn.linear_model import LogisticRegression\n",
    "\n",
    "model = LogisticRegression()\n",
    "model.fit(X_train, y_train)\n",
    "\n",
    "train_score = model.score(X_train, y_train)\n",
    "\n",
    "test_score = model.score(X_test, y_test)\n",
    "\n",
    "print(\"Точност върху тренировъчните данни:\", train_score)\n",
    "print(\"Точност върху тестовите данни:\", test_score)\n",
    "\n",
    "model_high_c = LogisticRegression(C=0.01)\n",
    "model_high_c.fit(X_train, y_train)\n",
    "test_score_high_c = model_high_c.score(X_test, y_test)\n",
    "\n",
    "model_low_c = LogisticRegression(C=100)\n",
    "model_low_c.fit(X_train, y_train)\n",
    "test_score_low_c = model_low_c.score(X_test, y_test)\n",
    "\n",
    "print(\"Точност с по-голяма регулизация:\", test_score_high_c)\n",
    "print(\"Точност с по-малка регулизация:\", test_score_low_c)"
   ]
  },
  {
   "cell_type": "markdown",
   "metadata": {},
   "source": [
    "# Задача 3\n",
    "\n",
    "3.1 Създайте модел за квадратични характеристики (`степен = 2`). Използвайте PolynomialFeatures, за да създадете данните.\n",
    "\n",
    "3.2 Повторете стъпките от Задача 2 върху квадратичните данни.\n",
    "\n",
    "3.3 Намерете броя на атрибутите."
   ]
  },
  {
   "cell_type": "code",
   "execution_count": 4,
   "metadata": {},
   "outputs": [
    {
     "name": "stdout",
     "output_type": "stream",
     "text": [
      "Точност върху тренировъчните данни с квадратични характеристики: 1.0\n",
      "Точност върху тестовите данни с квадратични характеристики: 0.894927536231884\n",
      "Брой на атрибутите след добавянето на квадратични характеристики: 139656\n"
     ]
    }
   ],
   "source": [
    "from sklearn.preprocessing import PolynomialFeatures\n",
    "\n",
    "poly = PolynomialFeatures(degree=2)\n",
    "\n",
    "X_train_poly = poly.fit_transform(X_train)\n",
    "X_test_poly = poly.transform(X_test)\n",
    "\n",
    "model_poly = LogisticRegression()\n",
    "model_poly.fit(X_train_poly, y_train)\n",
    "\n",
    "train_score_poly = model_poly.score(X_train_poly, y_train)\n",
    "\n",
    "test_score_poly = model_poly.score(X_test_poly, y_test)\n",
    "\n",
    "print(\"Точност върху тренировъчните данни с квадратични характеристики:\", train_score_poly)\n",
    "print(\"Точност върху тестовите данни с квадратични характеристики:\", test_score_poly)\n",
    "\n",
    "num_attributes_after_poly = X_train_poly.shape[1]\n",
    "\n",
    "print(\"Брой на атрибутите след добавянето на квадратични характеристики:\", num_attributes_after_poly)"
   ]
  },
  {
   "cell_type": "markdown",
   "metadata": {},
   "source": [
    "# Задача 4\n",
    "\n",
    "Повторете стъпките от задача 3 като преди това скалирате данните между 0 и 1. Сравнете резултата."
   ]
  },
  {
   "cell_type": "code",
   "execution_count": 5,
   "metadata": {},
   "outputs": [
    {
     "name": "stdout",
     "output_type": "stream",
     "text": [
      "Точност върху тренировъчните данни със скалирани и квадратични характеристики: 1.0\n",
      "Точност върху тестовите данни със скалирани и квадратични характеристики: 0.894927536231884\n"
     ]
    }
   ],
   "source": [
    "from sklearn.preprocessing import MinMaxScaler\n",
    "\n",
    "scaler = MinMaxScaler()\n",
    "X_train_scaled = scaler.fit_transform(X_train)\n",
    "X_test_scaled = scaler.transform(X_test)\n",
    "\n",
    "poly = PolynomialFeatures(degree=2)\n",
    "\n",
    "X_train_poly_scaled = poly.fit_transform(X_train_scaled)\n",
    "X_test_poly_scaled = poly.transform(X_test_scaled)\n",
    "\n",
    "model_poly_scaled = LogisticRegression()\n",
    "model_poly_scaled.fit(X_train_poly_scaled, y_train)\n",
    "\n",
    "train_score_poly_scaled = model_poly_scaled.score(X_train_poly_scaled, y_train)\n",
    "\n",
    "test_score_poly_scaled = model_poly_scaled.score(X_test_poly_scaled, y_test)\n",
    "\n",
    "print(\"Точност върху тренировъчните данни със скалирани и квадратични характеристики:\", train_score_poly_scaled)\n",
    "print(\"Точност върху тестовите данни със скалирани и квадратични характеристики:\", test_score_poly_scaled)"
   ]
  }
 ],
 "metadata": {
  "kernelspec": {
   "display_name": "Python 3.10.11 64-bit (microsoft store)",
   "language": "python",
   "name": "python3"
  },
  "language_info": {
   "codemirror_mode": {
    "name": "ipython",
    "version": 3
   },
   "file_extension": ".py",
   "mimetype": "text/x-python",
   "name": "python",
   "nbconvert_exporter": "python",
   "pygments_lexer": "ipython3",
   "version": "3.10.11"
  },
  "vscode": {
   "interpreter": {
    "hash": "0fe80d3a99a282b049e66b6d2f131da928080c6c5692a787e5c5208e1c056485"
   }
  }
 },
 "nbformat": 4,
 "nbformat_minor": 2
}
