{
 "cells": [
  {
   "cell_type": "markdown",
   "metadata": {},
   "source": [
    "# Домашно 2\n",
    "\n",
    "Трениране и подобряване на модели\n",
    "\n",
    "Предайте същата тетрадка като тази в заданието с нанесените от вас промени. Кръстете файла с факултетния си номер."
   ]
  },
  {
   "cell_type": "markdown",
   "metadata": {},
   "source": [
    "# Задача 1\n",
    "\n",
    "В заданието  имате данните отностно сърдечни заболявания, които са взети от [тук](https://archive.ics.uci.edu/dataset/222/bank+marketing).\n",
    "Данните, които трябва да прочетете, са файлът `bank.csv`\n",
    "\n",
    "1.1 Прочетете набора от данни с помощта на `pandas`.\n",
    "\n",
    "1.2 След което разбийте данните на атрибути и целеви атрибут. в случая целевия атрибут е y.\n",
    "\n",
    "1.3 Подгответе категорийните променливи, така че да могат да бъдат обработвани като индикатори.\n",
    "\n",
    "1.4 Разбийте данните на тренировъчно и тестово множество (като 30% от данните да са в тестовото множество). \n",
    "\n",
    "Преди да ги разбиете вижте какъв е баланса между двата класа и помислете как трябва да ги разбиете(hint: stratification) \n",
    "\n",
    "1.5 Скалирайте данните така, че да имате средно 0 и стандартно отклонение 1.\n"
   ]
  },
  {
   "cell_type": "code",
   "execution_count": 26,
   "metadata": {},
   "outputs": [],
   "source": [
    "import pandas as pd\n",
    "from sklearn.model_selection import train_test_split\n",
    "from sklearn.preprocessing import StandardScaler\n",
    "\n",
    "data = pd.read_csv('bank.csv', sep=';')\n",
    "\n",
    "X = data.drop('y', axis=1) \n",
    "y = data['y'].map({'yes': 1, 'no': 0})\n",
    "\n",
    "X = pd.get_dummies(X)\n",
    "\n",
    "X_train, X_test, y_train, y_test = train_test_split(X, y, test_size=0.3, stratify=y, random_state=42)\n",
    "\n",
    "scaler = StandardScaler()\n",
    "X_train_scaled = scaler.fit_transform(X_train)\n",
    "X_test_scaled = scaler.transform(X_test)"
   ]
  },
  {
   "cell_type": "markdown",
   "metadata": {},
   "source": [
    "# Задача 2 Дървета\n",
    "\n",
    "Използвайте крос-валидация с 5 гънки(5-fold cross validation), за да обучите и оптимизирате хиперпараметрите за дърво на решенията.\n",
    "\n",
    "Помислете внимателно как трябва да разбиете гънките при толкова небалансирани класове(hint: stratified k-fold cross-validation).\n",
    "\n",
    "Помислете как да оценявате модела не забравяйте, че точността не работи в този случай, защото данните са силно небалансирани. Имаме нужда от нещо, което съчетава прецизност и обхват(възвръщаемост).\n",
    "\n",
    "Направете grid search като изберете по 3 стойности за всеки от хипер параметрите\n",
    "* `max_depth`\n",
    "* `min_samples_leaf`\n",
    "* `max_leaf_nodes`\n",
    "\n",
    "Вижте как се представя алгоритъма върху тренировачните данни и кои са най-добрите хипер параметри."
   ]
  },
  {
   "cell_type": "code",
   "execution_count": 34,
   "metadata": {},
   "outputs": [
    {
     "name": "stdout",
     "output_type": "stream",
     "text": [
      "Fitting 5 folds for each of 27 candidates, totalling 135 fits\n",
      "Best hyperparameters: {'max_depth': 5, 'max_leaf_nodes': 10, 'min_samples_leaf': 6}\n",
      "Best score (recall): 0.3808219178082191\n"
     ]
    }
   ],
   "source": [
    "import pandas as pd\n",
    "from sklearn.tree import DecisionTreeClassifier\n",
    "from sklearn.model_selection import GridSearchCV, StratifiedKFold\n",
    "from sklearn.metrics import make_scorer, recall_score\n",
    "\n",
    "tree_classifier = DecisionTreeClassifier()\n",
    "\n",
    "param_grid = {\n",
    "    'max_depth': [3, 5, 7],\n",
    "    'min_samples_leaf': [2, 4, 6],\n",
    "    'max_leaf_nodes': [None, 5, 10]\n",
    "}\n",
    "\n",
    "scorer = make_scorer(recall_score)\n",
    "\n",
    "cv = StratifiedKFold(n_splits=5, shuffle=True, random_state=42)\n",
    "grid_search = GridSearchCV(estimator=tree_classifier, param_grid=param_grid, scoring=scorer, cv=cv, verbose=1, n_jobs=-1)\n",
    "grid_search.fit(X_train_scaled, y_train)\n",
    "\n",
    "best_params_dtc = grid_search.best_params_\n",
    "best_score = grid_search.best_score_\n",
    "\n",
    "print(\"Best hyperparameters:\", best_params_dtc)\n",
    "print(\"Best score (recall):\", best_score)\n"
   ]
  },
  {
   "cell_type": "markdown",
   "metadata": {},
   "source": [
    "# Задача 3 Случайна гора\n",
    "\n",
    "Аналогично на предишната задача но този път със случайна гора\n",
    "\n",
    "Направете grid search като изберете по 3 стойности за всеки от хипер параметрите\n",
    "* `n_estimators`\n",
    "* `max_depth`\n"
   ]
  },
  {
   "cell_type": "code",
   "execution_count": 36,
   "metadata": {},
   "outputs": [
    {
     "name": "stdout",
     "output_type": "stream",
     "text": [
      "Fitting 5 folds for each of 9 candidates, totalling 45 fits\n",
      "Best hyperparameters: {'max_depth': 15, 'n_estimators': 50}\n",
      "Best score (recall): 0.29315068493150687\n"
     ]
    }
   ],
   "source": [
    "from sklearn.ensemble import RandomForestClassifier\n",
    "\n",
    "rf_classifier = RandomForestClassifier()\n",
    "\n",
    "param_grid = {\n",
    "    'n_estimators': [50, 100, 150],\n",
    "    'max_depth': [5, 10, 15]\n",
    "}\n",
    "\n",
    "scorer = make_scorer(recall_score)\n",
    "\n",
    "cv = StratifiedKFold(n_splits=5, shuffle=True, random_state=42)\n",
    "grid_search = GridSearchCV(estimator=rf_classifier, param_grid=param_grid, scoring=scorer, cv=cv, verbose=1, n_jobs=-1)\n",
    "grid_search.fit(X_train_scaled, y_train)\n",
    "\n",
    "best_params_rf = grid_search.best_params_\n",
    "best_score = grid_search.best_score_\n",
    "\n",
    "print(\"Best hyperparameters:\", best_params_rf)\n",
    "print(\"Best score (recall):\", best_score)"
   ]
  },
  {
   "cell_type": "markdown",
   "metadata": {},
   "source": [
    "# Задача 4 SVM\n",
    "\n",
    "Аналогично на предишната задача но този път със svm\n",
    "\n",
    "Направете grid search като изберете по 3 стойности за всеки от хипер параметрите\n",
    "* `C`\n",
    "* `gamma`\n"
   ]
  },
  {
   "cell_type": "code",
   "execution_count": 38,
   "metadata": {},
   "outputs": [
    {
     "name": "stdout",
     "output_type": "stream",
     "text": [
      "Fitting 5 folds for each of 9 candidates, totalling 45 fits\n",
      "Best hyperparameters: {'C': 10, 'gamma': 0.01}\n",
      "Best score (recall): 0.37808219178082186\n"
     ]
    }
   ],
   "source": [
    "from sklearn.svm import SVC\n",
    "\n",
    "svm_classifier = SVC()\n",
    "\n",
    "param_grid = {\n",
    "    'C': [0.1, 1, 10],\n",
    "    'gamma': [0.1, 0.01, 0.001]\n",
    "}\n",
    "\n",
    "scorer = make_scorer(recall_score)\n",
    "\n",
    "cv = StratifiedKFold(n_splits=5, shuffle=True, random_state=42)\n",
    "grid_search = GridSearchCV(estimator=svm_classifier, param_grid=param_grid, scoring=scorer, cv=cv, verbose=1, n_jobs=-1)\n",
    "grid_search.fit(X_train_scaled, y_train)\n",
    "\n",
    "best_params_svm = grid_search.best_params_\n",
    "best_score = grid_search.best_score_\n",
    "\n",
    "print(\"Best hyperparameters:\", best_params_svm)\n",
    "print(\"Best score (recall):\", best_score)"
   ]
  },
  {
   "cell_type": "markdown",
   "metadata": {},
   "source": [
    "# Задача 5 \n",
    "\n",
    "Повторете задачи 2-4 като изполвате резултатите получени до сега за да избрете нови стойности на същите хипер параметри за които да правите нов grid search.\n"
   ]
  },
  {
   "cell_type": "code",
   "execution_count": 39,
   "metadata": {},
   "outputs": [
    {
     "name": "stdout",
     "output_type": "stream",
     "text": [
      "Fitting 5 folds for each of 27 candidates, totalling 135 fits\n",
      "Best hyperparameters for decision tree: {'max_depth': 6, 'max_leaf_nodes': 15, 'min_samples_leaf': 5}\n",
      "Best score (recall) for decision Tree: 0.4575342465753424\n",
      "Fitting 5 folds for each of 9 candidates, totalling 45 fits\n",
      "Best hyperparameters for random forest: {'max_depth': 17, 'n_estimators': 50}\n",
      "Best score (recall) for random forest: 0.2931506849315068\n",
      "Fitting 5 folds for each of 9 candidates, totalling 45 fits\n",
      "Best hyperparameters for SVM: {'C': 10, 'gamma': 0.02}\n",
      "Best score (recall) for SVM: 0.410958904109589\n"
     ]
    }
   ],
   "source": [
    "# Decision Tree Classifier:\n",
    "\n",
    "param_grid_dtc = {\n",
    "    'max_depth': [best_params_dtc['max_depth'] - 1, best_params_dtc['max_depth'], best_params_dtc['max_depth'] + 1],\n",
    "    'min_samples_leaf': [best_params_dtc['min_samples_leaf'] - 1, best_params_dtc['min_samples_leaf'], best_params_dtc['min_samples_leaf'] + 1],\n",
    "    'max_leaf_nodes': [best_params_dtc['max_leaf_nodes'], best_params_dtc['max_leaf_nodes'] + 5, None]\n",
    "}\n",
    "\n",
    "grid_search_dt = GridSearchCV(estimator=DecisionTreeClassifier(), param_grid=param_grid_dtc, scoring=scorer, cv=cv, verbose=1, n_jobs=-1)\n",
    "grid_search_dt.fit(X_train_scaled, y_train)\n",
    "\n",
    "best_params_dtc_new = grid_search_dt.best_params_\n",
    "best_score_dt_new = grid_search_dt.best_score_\n",
    "\n",
    "print(\"Best hyperparameters for decision tree:\", best_params_dtc_new)\n",
    "print(\"Best score (recall) for decision Tree:\", best_score_dt_new)\n",
    "\n",
    "# Random Forest Classifier:\n",
    "\n",
    "param_grid_rf = {\n",
    "    'n_estimators': [best_params_rf['n_estimators'] - 25, best_params_rf['n_estimators'], best_params_rf['n_estimators'] + 25],\n",
    "    'max_depth': [best_params_rf['max_depth'] - 2, best_params_rf['max_depth'], best_params_rf['max_depth'] + 2]\n",
    "}\n",
    "\n",
    "grid_search_rf = GridSearchCV(estimator=RandomForestClassifier(), param_grid=param_grid_rf, scoring=scorer, cv=cv, verbose=1, n_jobs=-1)\n",
    "grid_search_rf.fit(X_train_scaled, y_train)\n",
    "\n",
    "best_params_rf_new = grid_search_rf.best_params_\n",
    "best_score_rf_new = grid_search_rf.best_score_\n",
    "\n",
    "print(\"Best hyperparameters for random forest:\", best_params_rf_new)\n",
    "print(\"Best score (recall) for random forest:\", best_score_rf_new)\n",
    "\n",
    "# SVM:\n",
    "\n",
    "best_params_svm = {'C': 10, 'gamma': 0.01}\n",
    "\n",
    "param_grid_svm = {\n",
    "    'C': [best_params_svm['C'] - 2, best_params_svm['C'], best_params_svm['C'] + 2],\n",
    "    'gamma': [best_params_svm['gamma'] / 2, best_params_svm['gamma'], best_params_svm['gamma'] * 2]\n",
    "}\n",
    "\n",
    "grid_search_svm = GridSearchCV(estimator=SVC(), param_grid=param_grid_svm, scoring=scorer, cv=cv, verbose=1, n_jobs=-1)\n",
    "grid_search_svm.fit(X_train_scaled, y_train)\n",
    "\n",
    "best_params_svm_new = grid_search_svm.best_params_\n",
    "best_score_svm_new = grid_search_svm.best_score_\n",
    "\n",
    "print(\"Best hyperparameters for SVM:\", best_params_svm_new)\n",
    "print(\"Best score (recall) for SVM:\", best_score_svm_new)\n"
   ]
  },
  {
   "cell_type": "markdown",
   "metadata": {},
   "source": [
    "# Задача 6\n",
    "\n",
    "Сравнете как се предстявят всички модели и изберете кой е най-добрия\n"
   ]
  },
  {
   "cell_type": "code",
   "execution_count": 41,
   "metadata": {},
   "outputs": [
    {
     "name": "stdout",
     "output_type": "stream",
     "text": [
      "Decision tree recall: 0.3462\n",
      "Random forest recall: 0.2179\n",
      "SVM recall: 0.3333\n",
      "\n",
      "The best model is: Decision Tree with a recall of 0.3462\n"
     ]
    }
   ],
   "source": [
    "from sklearn.metrics import recall_score\n",
    "\n",
    "best_dt = DecisionTreeClassifier(max_depth=best_params_dtc['max_depth'], min_samples_leaf=best_params_dtc['min_samples_leaf'], max_leaf_nodes=best_params_dtc['max_leaf_nodes'])\n",
    "best_rf = RandomForestClassifier(n_estimators=best_params_rf['n_estimators'], max_depth=best_params_rf['max_depth'])\n",
    "best_svm = SVC(C=best_params_svm['C'], gamma=best_params_svm['gamma'])\n",
    "\n",
    "best_dt.fit(X_train_scaled, y_train)\n",
    "best_rf.fit(X_train_scaled, y_train)\n",
    "best_svm.fit(X_train_scaled, y_train)\n",
    "\n",
    "y_pred_dt = best_dt.predict(X_test_scaled)\n",
    "y_pred_rf = best_rf.predict(X_test_scaled)\n",
    "y_pred_svm = best_svm.predict(X_test_scaled)\n",
    "\n",
    "recall_dt = recall_score(y_test, y_pred_dt)\n",
    "recall_rf = recall_score(y_test, y_pred_rf)\n",
    "recall_svm = recall_score(y_test, y_pred_svm)\n",
    "\n",
    "print(f\"Decision tree recall: {recall_dt:.4f}\")\n",
    "print(f\"Random forest recall: {recall_rf:.4f}\")\n",
    "print(f\"SVM recall: {recall_svm:.4f}\")\n",
    "\n",
    "best_model = max([(recall_dt, 'Decision Tree'), (recall_rf, 'Random Forest'), (recall_svm, 'SVM')])\n",
    "\n",
    "print(f\"\\nThe best model is: {best_model[1]} with a recall of {best_model[0]:.4f}\")\n"
   ]
  }
 ],
 "metadata": {
  "kernelspec": {
   "display_name": "Python 3.10.11 64-bit (microsoft store)",
   "language": "python",
   "name": "python3"
  },
  "language_info": {
   "codemirror_mode": {
    "name": "ipython",
    "version": 3
   },
   "file_extension": ".py",
   "mimetype": "text/x-python",
   "name": "python",
   "nbconvert_exporter": "python",
   "pygments_lexer": "ipython3",
   "version": "3.10.11"
  },
  "vscode": {
   "interpreter": {
    "hash": "0fe80d3a99a282b049e66b6d2f131da928080c6c5692a787e5c5208e1c056485"
   }
  }
 },
 "nbformat": 4,
 "nbformat_minor": 2
}
